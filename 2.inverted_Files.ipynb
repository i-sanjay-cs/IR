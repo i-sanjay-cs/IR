{
 "cells": [
  {
   "cell_type": "code",
   "execution_count": 14,
   "id": "097e6ec0",
   "metadata": {},
   "outputs": [],
   "source": [
    "class InvertedIndex:\n",
    "    def __init__(self):\n",
    "        self.index = {}"
   ]
  },
  {
   "cell_type": "code",
   "execution_count": 23,
   "id": "65012949",
   "metadata": {},
   "outputs": [],
   "source": [
    "    def add_document(self,doc_id,content):\n",
    "        words = content.split()\n",
    "        for word in words:\n",
    "            word = word.lower()\n",
    "            if word not in self.index:\n",
    "                self.index[word] = []\n",
    "            self.index[word].append(doc_id)"
   ]
  },
  {
   "cell_type": "code",
   "execution_count": 24,
   "id": "819f79d6",
   "metadata": {},
   "outputs": [],
   "source": [
    "    def search(self,query):\n",
    "        query = query.lower()\n",
    "        query_terms = query.split()\n",
    "        result = set()\n",
    "        \n",
    "        for term in query_terms:\n",
    "            if not result:\n",
    "                result = set(self.index[term])\n",
    "            else:\n",
    "                result = result.intersection(self.index[term])\n",
    "        return result        "
   ]
  },
  {
   "cell_type": "code",
   "execution_count": 25,
   "id": "8e3a06de",
   "metadata": {},
   "outputs": [],
   "source": [
    "index = InvertedIndex()"
   ]
  },
  {
   "cell_type": "code",
   "execution_count": 26,
   "id": "49946667",
   "metadata": {},
   "outputs": [
    {
     "ename": "AttributeError",
     "evalue": "'InvertedIndex' object has no attribute 'add_document'",
     "output_type": "error",
     "traceback": [
      "\u001b[1;31m---------------------------------------------------------------------------\u001b[0m",
      "\u001b[1;31mAttributeError\u001b[0m                            Traceback (most recent call last)",
      "Cell \u001b[1;32mIn[26], line 2\u001b[0m\n\u001b[0;32m      1\u001b[0m \u001b[38;5;66;03m# Add some sample documents to the index\u001b[39;00m\n\u001b[1;32m----> 2\u001b[0m index\u001b[38;5;241m.\u001b[39madd_document(\u001b[38;5;241m1\u001b[39m, \u001b[38;5;124m\"\u001b[39m\u001b[38;5;124mThis is a sample document about inverted files.\u001b[39m\u001b[38;5;124m\"\u001b[39m)\n\u001b[0;32m      3\u001b[0m index\u001b[38;5;241m.\u001b[39madd_document(\u001b[38;5;241m2\u001b[39m, \u001b[38;5;124m\"\u001b[39m\u001b[38;5;124mInverted files are commonly used in information retrieval.\u001b[39m\u001b[38;5;124m\"\u001b[39m)\n\u001b[0;32m      4\u001b[0m index\u001b[38;5;241m.\u001b[39madd_document(\u001b[38;5;241m3\u001b[39m, \u001b[38;5;124m\"\u001b[39m\u001b[38;5;124mA simple example to demonstrate document retrieval using inverted index.\u001b[39m\u001b[38;5;124m\"\u001b[39m)\n",
      "\u001b[1;31mAttributeError\u001b[0m: 'InvertedIndex' object has no attribute 'add_document'"
     ]
    }
   ],
   "source": [
    "# Add some sample documents to the index\n",
    "index.add_document(1, \"This is a sample document about inverted files.\")\n",
    "index.add_document(2, \"Inverted files are commonly used in information retrieval.\")\n",
    "index.add_document(3, \"A simple example to demonstrate document retrieval using inverted index.\")\n"
   ]
  },
  {
   "cell_type": "code",
   "execution_count": null,
   "id": "cd81f3ce",
   "metadata": {},
   "outputs": [],
   "source": [
    "# Search for documents containing specific terms\n",
    "query = \"inverted\"\n",
    "results = index.search(query)\n",
    "\n",
    "print(\"Documents containing the query terms:\")\n",
    "for doc_id in results:\n",
    "    print(f\"Document {doc_id}\")"
   ]
  },
  {
   "cell_type": "code",
   "execution_count": null,
   "id": "f9890a2b",
   "metadata": {},
   "outputs": [],
   "source": []
  }
 ],
 "metadata": {
  "kernelspec": {
   "display_name": "Python 3 (ipykernel)",
   "language": "python",
   "name": "python3"
  },
  "language_info": {
   "codemirror_mode": {
    "name": "ipython",
    "version": 3
   },
   "file_extension": ".py",
   "mimetype": "text/x-python",
   "name": "python",
   "nbconvert_exporter": "python",
   "pygments_lexer": "ipython3",
   "version": "3.11.5"
  }
 },
 "nbformat": 4,
 "nbformat_minor": 5
}
