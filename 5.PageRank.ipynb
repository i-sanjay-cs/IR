{
 "cells": [
  {
   "cell_type": "code",
   "execution_count": 1,
   "id": "eb68852f",
   "metadata": {},
   "outputs": [
    {
     "name": "stdout",
     "output_type": "stream",
     "text": [
      "Page: A, PageRank: 0.354\n",
      "Page: B, PageRank: 0.381\n",
      "Page: C, PageRank: 0.206\n",
      "Page: D, PageRank: 0.030\n",
      "Page: E, PageRank: 0.030\n"
     ]
    }
   ],
   "source": [
    "import networkx as nx\n",
    "\n",
    "# Create a directed graph representing web pages and links\n",
    "G = nx.DiGraph()\n",
    "G.add_edges_from([\n",
    "    ('A', 'B'),\n",
    "    ('A', 'C'),\n",
    "    ('B', 'A'),\n",
    "    ('C', 'B'),\n",
    "    ('D', 'C'),\n",
    "    ('E', 'B'),\n",
    "])\n",
    "\n",
    "# Calculate PageRank\n",
    "pagerank = nx.pagerank(G)\n",
    "\n",
    "# Display PageRank scores for each web page\n",
    "for page, score in pagerank.items():\n",
    "    print(f'Page: {page}, PageRank: {score:.3f}')"
   ]
  },
  {
   "cell_type": "code",
   "execution_count": 4,
   "id": "845f8631",
   "metadata": {},
   "outputs": [
    {
     "name": "stdout",
     "output_type": "stream",
     "text": [
      "Initial Scores [0.25 0.25 0.25 0.25]\n",
      "PageRank Scores: [0.31420191 0.3060449  0.17250926 0.31766833]\n"
     ]
    }
   ],
   "source": [
    "import numpy as np\n",
    "\n",
    "def pagerank(link_matrix, d=0.85, max_iterations=100, tolerance=1e-6):\n",
    "    \"\"\"\n",
    "    Calculate PageRank scores for a given link matrix.\n",
    "\n",
    "    :param link_matrix: A square matrix where link_matrix[i][j] is 1 if page j links to page i, and 0 otherwise.\n",
    "    :param d: Damping factor (usually set to 0.85).\n",
    "    :param max_iterations: Maximum number of iterations.\n",
    "    :param tolerance: Convergence tolerance.\n",
    "    :return: PageRank scores for each page.\n",
    "    \"\"\"\n",
    "    num_pages = len(link_matrix)\n",
    "    initial_scores = np.ones(num_pages) / num_pages\n",
    "    print('Initial Scores',initial_scores)\n",
    "    scores = initial_scores.copy()\n",
    "\n",
    "    for _ in range(max_iterations):\n",
    "        prev_scores = scores.copy()\n",
    "        for i in range(num_pages):\n",
    "            summation = 0\n",
    "            for j in range(num_pages):\n",
    "                if link_matrix[i][j]:\n",
    "                    summation += prev_scores[j] / np.sum(link_matrix[j])\n",
    "            scores[i] = (1 - d) / num_pages + d * summation\n",
    "\n",
    "        if np.linalg.norm(scores - prev_scores) < tolerance:\n",
    "            break\n",
    "\n",
    "    return scores\n",
    "\n",
    "# Example usage\n",
    "link_matrix = np.array([\n",
    "    [0, 1, 1, 0],\n",
    "    [1, 0, 0, 1],\n",
    "    [0, 0, 0, 1],\n",
    "    [1, 0, 1, 0]\n",
    "])\n",
    "\n",
    "page_rank_scores = pagerank(link_matrix)\n",
    "print(\"PageRank Scores:\", page_rank_scores)\n"
   ]
  },
  {
   "cell_type": "code",
   "execution_count": null,
   "id": "e8da37d7",
   "metadata": {},
   "outputs": [],
   "source": []
  }
 ],
 "metadata": {
  "kernelspec": {
   "display_name": "Python 3 (ipykernel)",
   "language": "python",
   "name": "python3"
  },
  "language_info": {
   "codemirror_mode": {
    "name": "ipython",
    "version": 3
   },
   "file_extension": ".py",
   "mimetype": "text/x-python",
   "name": "python",
   "nbconvert_exporter": "python",
   "pygments_lexer": "ipython3",
   "version": "3.11.5"
  }
 },
 "nbformat": 4,
 "nbformat_minor": 5
}
